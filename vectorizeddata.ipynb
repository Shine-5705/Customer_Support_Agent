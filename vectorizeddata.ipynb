{
  "cells": [
    {
      "cell_type": "code",
      "execution_count": null,
      "metadata": {
        "id": "1ut7Fyv7SfkK"
      },
      "outputs": [],
      "source": [
        "!pip install openai"
      ]
    },
    {
      "cell_type": "code",
      "execution_count": null,
      "metadata": {
        "id": "pihpDuuFSl3k"
      },
      "outputs": [],
      "source": [
        "!pip install sentence-transformers --upgrade\n"
      ]
    },
    {
      "cell_type": "code",
      "execution_count": null,
      "metadata": {
        "id": "YWqc4ykdSoA3"
      },
      "outputs": [],
      "source": [
        "!pip install ipywidgets jupyter --upgrade"
      ]
    },
    {
      "cell_type": "code",
      "execution_count": null,
      "metadata": {
        "id": "qrj-t6UKSqN4"
      },
      "outputs": [],
      "source": [
        "!pip install faiss-cpu sentence-transformers"
      ]
    },
    {
      "cell_type": "code",
      "execution_count": null,
      "metadata": {
        "id": "an8CRDpoSspc"
      },
      "outputs": [],
      "source": [
        "from sentence_transformers import SentenceTransformer\n",
        "import faiss\n",
        "import numpy as np\n",
        "import json\n",
        "import pickle\n",
        "\n",
        "class VectorDBBuilder:\n",
        "    def __init__(self, json_file, faiss_index_file=\"vector.index\", metadata_file=\"metadata.pkl\"):\n",
        "        self.json_file = json_file\n",
        "        self.index_file = faiss_index_file\n",
        "        self.metadata_file = metadata_file\n",
        "        self.model = SentenceTransformer('all-MiniLM-L6-v2')\n",
        "        self.metadata = []\n",
        "\n",
        "    def build_index(self):\n",
        "        with open(self.json_file, 'r', encoding='utf-8') as f:\n",
        "            data = json.load(f)\n",
        "\n",
        "        texts = []\n",
        "        for entry in data:\n",
        "            if entry.get(\"cleaned_content\"):\n",
        "                texts.append(entry[\"cleaned_content\"])\n",
        "                self.metadata.append({\n",
        "                    \"url\": entry[\"url\"],\n",
        "                    \"title\": entry[\"title\"]\n",
        "                })\n",
        "\n",
        "        embeddings = self.model.encode(texts, convert_to_numpy=True, show_progress_bar=True)\n",
        "        dimension = embeddings.shape[1]\n",
        "\n",
        "        index = faiss.IndexFlatL2(dimension)\n",
        "        index.add(np.array(embeddings))\n",
        "\n",
        "        faiss.write_index(index, self.index_file)\n",
        "        with open(self.metadata_file, 'wb') as f:\n",
        "            pickle.dump(self.metadata, f)\n",
        "\n",
        "        print(f\"✅ FAISS index saved to {self.index_file}\")\n",
        "        print(f\"✅ Metadata saved to {self.metadata_file}\")\n",
        "\n",
        "# Usage\n",
        "if __name__ == \"__main__\":\n",
        "    builder = VectorDBBuilder(\"drdo_scraped_with_pdfs2.json\")\n",
        "    builder.build_index()\n"
      ]
    },
    {
      "cell_type": "code",
      "execution_count": null,
      "metadata": {
        "id": "dNRiAh1ZSucw"
      },
      "outputs": [],
      "source": [
        "def search(query, top_k=5):\n",
        "    import pickle\n",
        "    import faiss\n",
        "    from sentence_transformers import SentenceTransformer\n",
        "\n",
        "    index = faiss.read_index(\"vector.index\")\n",
        "    with open(\"metadata.pkl\", \"rb\") as f:\n",
        "        metadata = pickle.load(f)\n",
        "\n",
        "    model = SentenceTransformer('all-MiniLM-L6-v2')\n",
        "    query_vector = model.encode([query])\n",
        "    distances, indices = index.search(query_vector, top_k)\n",
        "\n",
        "    results = []\n",
        "    for i in indices[0]:\n",
        "        results.append(metadata[i])\n",
        "\n",
        "    return results\n",
        "\n",
        "# Example usage\n",
        "print(search(\"missile development heads\"))"
      ]
    },
    {
      "cell_type": "code",
      "execution_count": null,
      "metadata": {},
      "outputs": [],
      "source": [
        "!pip install ctransformers sentence-transformers faiss-cpu"
      ]
    },
    {
      "cell_type": "code",
      "execution_count": null,
      "metadata": {},
      "outputs": [],
      "source": [
        "!pip uninstall numpy -y\n",
        "!pip install numpy==1.26.4"
      ]
    },
    {
      "cell_type": "markdown",
      "metadata": {},
      "source": [
        "### Download this model and save that in a folder named models/tinyllama-1.1b-chat-v1.0.Q8_0.gguf\n",
        "\n",
        "this is the link for that as the model cant be pushed due to larger size\n",
        "https://huggingface.co/TheBloke/TinyLlama-1.1B-Chat-v1.0-GGUF/blob/main/tinyllama-1.1b-chat-v1.0.Q8_0.gguf"
      ]
    },
    {
      "cell_type": "code",
      "execution_count": null,
      "metadata": {},
      "outputs": [],
      "source": [
        "import os\n",
        "os.environ[\"USE_TF\"] = \"0\"\n",
        "\n",
        "from ctransformers import AutoModelForCausalLM\n",
        "from sentence_transformers import SentenceTransformer\n",
        "import faiss, pickle\n",
        "\n",
        "# Load your FAISS vector DB + metadata\n",
        "index = faiss.read_index(\"vector.index\")\n",
        "with open(\"metadata.pkl\", \"rb\") as f:\n",
        "    metadata = pickle.load(f)\n",
        "\n",
        "# Sentence embedding model (fast + free)\n",
        "embedding_model = SentenceTransformer(\"all-MiniLM-L6-v2\")\n",
        "\n",
        "# Load tiny local LLM (.gguf)\n",
        "llm = AutoModelForCausalLM.from_pretrained(\n",
        "    \"models\",\n",
        "    model_file=\"tinyllama-1.1b-chat-v1.0.Q8_0.gguf\",\n",
        "    model_type=\"llama\",\n",
        "    gpu_layers=0,\n",
        "    max_new_tokens=512,\n",
        "    temperature=0.7\n",
        ")\n",
        "\n",
        "def retrieve_context(query, k=5):\n",
        "    vec = embedding_model.encode([query])\n",
        "    distances, indices = index.search(vec, k)\n",
        "    return [metadata[i] for i in indices[0]]\n",
        "\n",
        "def build_prompt(query, context):\n",
        "    context_text = \"\\n\\n\".join(\n",
        "        f\"Title: {doc['title']}\\nURL: {doc['url']}\\n\\n{doc.get('cleaned_content', '')[:1000]}\"\n",
        "        for doc in context\n",
        "    )\n",
        "    return f\"\"\"You are a helpful assistant. Use the context below to answer the question.\n",
        "\n",
        "Context:\n",
        "{context_text}\n",
        "\n",
        "Question: {query}\n",
        "\n",
        "Answer:\"\"\"\n",
        "\n",
        "# Simple terminal agent\n",
        "if __name__ == \"__main__\":\n",
        "    print(\"🤖 DRDO Agent is ready. Type 'exit' to quit.\")\n",
        "    while True:\n",
        "        q = input(\"\\nYou: \")\n",
        "        if q.lower() in ['exit', 'quit']:\n",
        "            break\n",
        "        docs = retrieve_context(q)\n",
        "        prompt = build_prompt(q, docs)\n",
        "        print(\"\\nAgent:\", llm(prompt))\n"
      ]
    },
    {
      "cell_type": "markdown",
      "metadata": {},
      "source": [
        "Download the Ollama from this and then set it up : https://ollama.com/download\n",
        "\n",
        "Verify by ollama --version"
      ]
    },
    {
      "cell_type": "code",
      "execution_count": null,
      "metadata": {},
      "outputs": [],
      "source": [
        "%pip install faiss-cpu langchain sentence-transformers requests ollama"
      ]
    },
    {
      "cell_type": "markdown",
      "metadata": {},
      "source": [
        "## Install and Run Ollama\n",
        "If you haven't already:\n",
        "\n",
        "```bash\n",
        "curl -fsSL https://ollama.com/install.sh | sh\n",
        "```\n",
        "Then start Ollama in your terminal:\n",
        "\n",
        "```bash\n",
        "ollama run mistral\n",
        "```\n"
      ]
    },
    {
      "cell_type": "code",
      "execution_count": null,
      "metadata": {},
      "outputs": [],
      "source": [
        "from ollama import Client\n",
        "from sentence_transformers import SentenceTransformer\n",
        "import faiss\n",
        "import pickle\n",
        "\n",
        "# Connect to local Ollama\n",
        "client = Client(host='http://localhost:11434')\n",
        "\n",
        "# Load FAISS vector index and metadata\n",
        "index = faiss.read_index(\"vector.index\")\n",
        "with open(\"metadata.pkl\", \"rb\") as f:\n",
        "    metadata = pickle.load(f)\n",
        "\n",
        "embedding_model = SentenceTransformer(\"all-MiniLM-L6-v2\")\n",
        "\n",
        "def retrieve_context(query, k=5):\n",
        "    vec = embedding_model.encode([query])\n",
        "    distances, indices = index.search(vec, k)\n",
        "    return [metadata[i] for i in indices[0]]\n",
        "\n",
        "def build_prompt(query, context):\n",
        "    context_text = \"\\n\\n\".join(\n",
        "        f\"Title: {doc['title']}\\nURL: {doc['url']}\\n\\n{doc.get('cleaned_content', '')[:1000]}\"\n",
        "        for doc in context\n",
        "    )\n",
        "    return f\"\"\"You are a helpful assistant. Use the context below to answer the question.\n",
        "\n",
        "Context:\n",
        "{context_text}\n",
        "\n",
        "Question: {query}\n",
        "\n",
        "Answer:\"\"\"\n",
        "\n",
        "def chat_with_mistral(query):\n",
        "    context_docs = retrieve_context(query)\n",
        "    prompt = build_prompt(query, context_docs)\n",
        "\n",
        "    response = client.chat(\n",
        "        model=\"mistral\",\n",
        "        messages=[{\"role\": \"user\", \"content\": prompt}]\n",
        "    )\n",
        "    return response['message']['content']\n",
        "while True:\n",
        "    user_query = input(\"🧠 You: \")\n",
        "    if user_query.lower() in [\"exit\", \"quit\"]:\n",
        "        break\n",
        "    print(\"\\n🤖 Agent:\", chat_with_mistral(user_query))\n",
        "\n",
        "print(chat_with_mistral(\"What technologies are being used in missile systems?\"))\n"
      ]
    },
    {
      "cell_type": "code",
      "execution_count": null,
      "metadata": {},
      "outputs": [],
      "source": []
    }
  ],
  "metadata": {
    "colab": {
      "provenance": []
    },
    "kernelspec": {
      "display_name": "Python 3",
      "language": "python",
      "name": "python3"
    },
    "language_info": {
      "codemirror_mode": {
        "name": "ipython",
        "version": 3
      },
      "file_extension": ".py",
      "mimetype": "text/x-python",
      "name": "python",
      "nbconvert_exporter": "python",
      "pygments_lexer": "ipython3",
      "version": "3.10.11"
    }
  },
  "nbformat": 4,
  "nbformat_minor": 0
}
