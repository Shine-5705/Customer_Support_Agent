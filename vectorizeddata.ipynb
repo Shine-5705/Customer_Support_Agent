{
  "nbformat": 4,
  "nbformat_minor": 0,
  "metadata": {
    "colab": {
      "provenance": []
    },
    "kernelspec": {
      "name": "python3",
      "display_name": "Python 3"
    },
    "language_info": {
      "name": "python"
    }
  },
  "cells": [
    {
      "cell_type": "code",
      "execution_count": null,
      "metadata": {
        "id": "1ut7Fyv7SfkK"
      },
      "outputs": [],
      "source": [
        "!pip install openai"
      ]
    },
    {
      "cell_type": "code",
      "source": [
        "!pip install sentence-transformers --upgrade\n"
      ],
      "metadata": {
        "id": "pihpDuuFSl3k"
      },
      "execution_count": null,
      "outputs": []
    },
    {
      "cell_type": "code",
      "source": [
        "!pip install ipywidgets jupyter --upgrade"
      ],
      "metadata": {
        "id": "YWqc4ykdSoA3"
      },
      "execution_count": null,
      "outputs": []
    },
    {
      "cell_type": "code",
      "source": [
        "!pip install faiss-cpu sentence-transformers"
      ],
      "metadata": {
        "id": "qrj-t6UKSqN4"
      },
      "execution_count": null,
      "outputs": []
    },
    {
      "cell_type": "code",
      "source": [
        "from sentence_transformers import SentenceTransformer\n",
        "import faiss\n",
        "import numpy as np\n",
        "import json\n",
        "import pickle\n",
        "\n",
        "class VectorDBBuilder:\n",
        "    def __init__(self, json_file, faiss_index_file=\"vector.index\", metadata_file=\"metadata.pkl\"):\n",
        "        self.json_file = json_file\n",
        "        self.index_file = faiss_index_file\n",
        "        self.metadata_file = metadata_file\n",
        "        self.model = SentenceTransformer('all-MiniLM-L6-v2')\n",
        "        self.metadata = []\n",
        "\n",
        "    def build_index(self):\n",
        "        with open(self.json_file, 'r', encoding='utf-8') as f:\n",
        "            data = json.load(f)\n",
        "\n",
        "        texts = []\n",
        "        for entry in data:\n",
        "            if entry.get(\"cleaned_content\"):\n",
        "                texts.append(entry[\"cleaned_content\"])\n",
        "                self.metadata.append({\n",
        "                    \"url\": entry[\"url\"],\n",
        "                    \"title\": entry[\"title\"]\n",
        "                })\n",
        "\n",
        "        embeddings = self.model.encode(texts, convert_to_numpy=True, show_progress_bar=True)\n",
        "        dimension = embeddings.shape[1]\n",
        "\n",
        "        index = faiss.IndexFlatL2(dimension)\n",
        "        index.add(np.array(embeddings))\n",
        "\n",
        "        faiss.write_index(index, self.index_file)\n",
        "        with open(self.metadata_file, 'wb') as f:\n",
        "            pickle.dump(self.metadata, f)\n",
        "\n",
        "        print(f\"✅ FAISS index saved to {self.index_file}\")\n",
        "        print(f\"✅ Metadata saved to {self.metadata_file}\")\n",
        "\n",
        "# Usage\n",
        "if __name__ == \"__main__\":\n",
        "    builder = VectorDBBuilder(\"drdo_scraped_with_pdfs2.json\")\n",
        "    builder.build_index()\n"
      ],
      "metadata": {
        "id": "an8CRDpoSspc"
      },
      "execution_count": null,
      "outputs": []
    },
    {
      "cell_type": "code",
      "source": [
        "def search(query, top_k=5):\n",
        "    import pickle\n",
        "    import faiss\n",
        "    from sentence_transformers import SentenceTransformer\n",
        "\n",
        "    index = faiss.read_index(\"vector.index\")\n",
        "    with open(\"metadata.pkl\", \"rb\") as f:\n",
        "        metadata = pickle.load(f)\n",
        "\n",
        "    model = SentenceTransformer('all-MiniLM-L6-v2')\n",
        "    query_vector = model.encode([query])\n",
        "    distances, indices = index.search(query_vector, top_k)\n",
        "\n",
        "    results = []\n",
        "    for i in indices[0]:\n",
        "        results.append(metadata[i])\n",
        "\n",
        "    return results\n",
        "\n",
        "# Example usage\n",
        "print(search(\"missile development heads\"))"
      ],
      "metadata": {
        "id": "dNRiAh1ZSucw"
      },
      "execution_count": null,
      "outputs": []
    }
  ]
}